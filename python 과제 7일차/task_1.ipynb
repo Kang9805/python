{
 "cells": [
  {
   "cell_type": "markdown",
   "metadata": {},
   "source": [
    "안녕하세요. 수강생 여러분~! Chapter33 ~ 41 수업은 잘 들으셨나요?\n",
    "\n",
    "Chapter33 ~ 41의 수업 내용을 바탕으로 아래 문제를 풀어주시면 됩니다.\n",
    "\n",
    "\n",
    "<br>\n",
    "\n",
    "\n",
    "[**답변 입력 방법**]\n",
    "\n",
    "문제 아래에 있는 코드 입력창에 정답코드를 작성하신 후  __▷ 버튼을 클릭해 코드를 실행__ 해보세요<br>"
   ]
  },
  {
   "cell_type": "markdown",
   "metadata": {},
   "source": [
    "---"
   ]
  },
  {
   "cell_type": "markdown",
   "metadata": {},
   "source": [
    "[문제 1]\n",
    "\n",
    "사용자로부터 두 개의 숫자를 입력받아 나눗셈을 수행하는 프로그램을 작성하세요. \n",
    "\n",
    "[예외처리]\n",
    "- 입력 값이 숫자가 아닐 때 발생할 수 있는 ValueError\n",
    "- 나누는 수가 0일 때 발생할 수 있는 ZeroDivisionError\n",
    "- 위 2가지 예외처리 후 사용자에게 이해하기 쉬운 메시지 작성 후 출력되도록 코드를 작성"
   ]
  },
  {
   "cell_type": "code",
   "execution_count": 11,
   "metadata": {},
   "outputs": [
    {
     "name": "stdout",
     "output_type": "stream",
     "text": [
      "두 수를 나눈 값은 7.235294117647059입니다.\n"
     ]
    }
   ],
   "source": [
    "try:\n",
    "    x, y = map(int,input(\"두 수를 입력하시오.\").split())\n",
    "    \n",
    "    print(f'두 수를 나눈 값은 {x / y}입니다.')\n",
    "\n",
    "except ValueError:\n",
    "    print('잘못된 입력입니다. 숫자만 입력해주세요.')\n",
    "except ZeroDivisionError:\n",
    "    print('두 번째 숫자에 0을 넣으면 안됩니다.')\n"
   ]
  },
  {
   "cell_type": "markdown",
   "metadata": {},
   "source": [
    "---"
   ]
  },
  {
   "cell_type": "markdown",
   "metadata": {},
   "source": [
    "[문제 2]\n",
    "\n",
    "파일을 읽어서 내용을 출력하는 프로그램을 작성하세요. \n",
    "\n",
    "- 파일이 존재하지 않을 때 발생하는 FileNotFoundError를 처리\n",
    "- 파일이 존재하지 않을 경우 \"파일을 찾을 수 없습니다.\"라는 메시지를 출력"
   ]
  },
  {
   "cell_type": "code",
   "execution_count": 1,
   "metadata": {},
   "outputs": [
    {
     "name": "stdout",
     "output_type": "stream",
     "text": [
      "Hello! \n"
     ]
    }
   ],
   "source": [
    "file_name = input(\"파일명을 입력하시오\")\n",
    "\n",
    "try:\n",
    "    x = open(file_name, \"r\")\n",
    "    print(x.read())\n",
    "    x.close()\n",
    "except FileNotFoundError:\n",
    "    print('파일을 찾을 수 없습니다.')\n",
    "\n"
   ]
  },
  {
   "cell_type": "markdown",
   "metadata": {},
   "source": [
    "---"
   ]
  },
  {
   "cell_type": "markdown",
   "metadata": {},
   "source": [
    "[문제 3]\n",
    "\n",
    "사용자로부터 여러 개의 숫자를 입력받아 리스트에 저장한 후, 사용자가 'done'이라고 입력할 때까지 계속 입력받으세요. \n",
    "\n",
    "- 입력 중 숫자가 아닌 값이 입력되면 ValueError를 처리\n",
    "- 숫자 외 값이 입력된 경우 어떤 값이 잘못 입력되었는지 사용자에게 알려주는 문구 출력<br>\n",
    "  (예: f\"잘못된 값: {변수}. 숫자를 입력해주세요.\")\n",
    "\n"
   ]
  },
  {
   "cell_type": "code",
   "execution_count": 13,
   "metadata": {},
   "outputs": [
    {
     "name": "stdout",
     "output_type": "stream",
     "text": [
      "11, 22, 33, 44 잘못된 값을 입력했습니다. 다시 입력해주세요. \n",
      "111, 222, 333, 444 잘못된 값을 입력했습니다. 다시 입력해주세요. \n",
      "1231, 12345. 67545 잘못된 값을 입력했습니다. 다시 입력해주세요. \n",
      "안, 녕 , 하, 세, 요 잘못된 값을 입력했습니다. 다시 입력해주세요. \n",
      "안 녕 하 세 요 잘못된 값을 입력했습니다. 다시 입력해주세요. \n"
     ]
    }
   ],
   "source": [
    "numbers = []\n",
    "\n",
    "while True:\n",
    "    user_input = input('숫자를 입력하세요 Done 입력 시 종료 : ')\n",
    "\n",
    "    if user_input == 'done':\n",
    "        break\n",
    "\n",
    "    try:\n",
    "        number = int(user_input)\n",
    "        numbers.append(number)\n",
    "   \n",
    "    except ValueError:\n",
    "        print(f'{user_input} 잘못된 값을 입력했습니다. 다시 입력해주세요. ')\n",
    "\n",
    "\n",
    "\n",
    "\n",
    "\n"
   ]
  },
  {
   "cell_type": "markdown",
   "metadata": {},
   "source": [
    "---"
   ]
  },
  {
   "cell_type": "markdown",
   "metadata": {},
   "source": [
    "[문제 4]\n",
    "\n",
    "사용자 정의 예외 NegativeNumberError를 생성하고, 사용자로부터 숫자를 입력받아 음수일 경우 NegativeNumberError를 발생시키는 프로그램을 작성하세요. \n",
    "\n",
    "- 예외 처리 구문을 사용하여 음수 입력 시 \"양수를 입력해주세요.\"라는 메시지를 출력"
   ]
  },
  {
   "cell_type": "code",
   "execution_count": 18,
   "metadata": {},
   "outputs": [
    {
     "name": "stdout",
     "output_type": "stream",
     "text": [
      "-1 양수를 입력하세요\n",
      "1 홀수 입니다. 계속하겠습니다.\n",
      "1 홀수 입니다. 계속하겠습니다.\n",
      "3 홀수 입니다. 계속하겠습니다.\n",
      "5 홀수 입니다. 계속하겠습니다.\n",
      "6 짝수 입니다. 종료하겠습니다.\n"
     ]
    }
   ],
   "source": [
    "class NegativeNumberError(Exception): # 왜 안되지 고민하다 GPT한테 물어봤습니다 ㅋㅋ\n",
    "    pass\n",
    "\n",
    "while True:\n",
    "    user_input = input('숫자를 입력하시오')\n",
    "\n",
    "    try:\n",
    "        number = int(user_input)\n",
    "\n",
    "        if number < 0:\n",
    "            raise NegativeNumberError # 음수면 사용자 정의 예외 발생\n",
    "        \n",
    "        if number % 2 == 0:\n",
    "            print(f'{number} 짝수 입니다. 종료하겠습니다.')\n",
    "            break\n",
    "        \n",
    "        else:\n",
    "            print(f'{number} 홀수 입니다. 계속하겠습니다.')\n",
    "    \n",
    "    except NegativeNumberError:\n",
    "        print(f'{number} 양수를 입력하세요')\n",
    "\n",
    "        "
   ]
  },
  {
   "cell_type": "markdown",
   "metadata": {},
   "source": [
    "---"
   ]
  },
  {
   "cell_type": "markdown",
   "metadata": {},
   "source": [
    "[문제 5]\n",
    "\n",
    "datetime 모듈을 사용하여 현재 날짜와 시간을 출력하는 프로그램을 작성하세요. \n",
    "\n",
    "또한, 사용자로부터 태어난 년도를 입력받아 현재 나이를 계산하여 출력하세요."
   ]
  },
  {
   "cell_type": "code",
   "execution_count": 32,
   "metadata": {},
   "outputs": [
    {
     "name": "stdout",
     "output_type": "stream",
     "text": [
      "2025.07.17 15:53\n",
      "당신의 나이는 27입니다.\n"
     ]
    }
   ],
   "source": [
    "# import datetime # 너무 신기하고 ㅋㅋㅋㅋㅋㅋ\n",
    "\n",
    "# print(\"현재 날짜와 시간 출력\")\n",
    "\n",
    "# now = datetime.datetime.now()\n",
    "# print(now.year,\"년\")\n",
    "# print(now.month,\"월\")\n",
    "# print(now.day,\"일\")\n",
    "# print(now.hour,\"시\")\n",
    "# print(now.minute,\"분\")\n",
    "\n",
    "# 현재 시간과 날짜 구하기\n",
    "import datetime\n",
    "\n",
    "now = datetime.datetime.now()\n",
    "output_1 = now.strftime(\"%Y.%m.%d %H:%M\")\n",
    "print(output_1)\n",
    "\n",
    "#내가 태어난 년도와 현재 나이\n",
    "try:\n",
    "    birth_year = int(input('태어난 년도를 넣으시오'))\n",
    "    current_year = now.year\n",
    "# 나이를 구하려면 현재 년도에서 테어난 년도를 뺴면 되나?\n",
    "    age = current_year - birth_year\n",
    "    print(f'당신의 나이는 {age}입니다.')\n",
    "except ValueError:\n",
    "    print('올바른 숫자를 입력해주세요')\n",
    "\n",
    "\n",
    "\n",
    "\n"
   ]
  },
  {
   "cell_type": "markdown",
   "metadata": {},
   "source": [
    "---"
   ]
  },
  {
   "cell_type": "markdown",
   "metadata": {},
   "source": [
    "[문제 6]\n",
    "\n",
    "requests 모듈을 사용하여, 웹 페이지의 HTML을 가져오는 간단한 웹 스크레이퍼를 작성하세요.\n",
    "\n",
    "'https://kream.co.kr/'에서<br> \n",
    "데이터를 가져와서 상태 코드와 HTML의 첫 100자를 출력하세요.<br>\n",
    "(실습 전 requests 모듈을 설치해야 함)"
   ]
  },
  {
   "cell_type": "code",
   "execution_count": null,
   "metadata": {},
   "outputs": [
    {
     "name": "stdout",
     "output_type": "stream",
     "text": [
      "페이지 제목: KREAM | 한정판 거래의 FLEX\n",
      "\n",
      "HTML 첫 100자:\n",
      "<!DOCTYPE html><html  lang=\"ko\"><head><meta charset=\"utf-8\">\n",
      "<meta name=\"viewport\" content=\"width=de\n"
     ]
    }
   ],
   "source": [
    "import requests\n",
    "from bs4 import BeautifulSoup\n",
    "\n",
    "url = 'https://kream.co.kr/'\n",
    "\n",
    "headers = {\n",
    "    'User-Agent': 'Mozilla/5.0 (Windows NT 10.0; Win64; x64) AppleWebKit/537.36 (KHTML, like Gecko) Chrome/115.0.0.0 Safari/537.36',\n",
    "    'Accept-Language': 'ko-KR,ko;q=0.9,en-US;q=0.8,en;q=0.7',\n",
    "}\n",
    "\n",
    "try:\n",
    "    response = requests.get(url, headers=headers)\n",
    "    response.raise_for_status()\n",
    "    \n",
    "    soup = BeautifulSoup(response.text, 'html.parser')\n",
    "    \n",
    "    title_tag = soup.select_one('title')\n",
    "    if title_tag:\n",
    "        print(\"페이지 제목:\", title_tag.string)\n",
    "    else:\n",
    "        print(\"페이지 제목을 찾을 수 없습니다.\")\n",
    "\n",
    "    print(\"\\nHTML 첫 100자:\")\n",
    "    print(response.text[:100])\n",
    "\n",
    "except requests.exceptions.RequestException as e:\n",
    "    print(\"요청 중 오류가 발생했습니다:\", e)\n",
    "\n",
    "# 이건 진짜 100퍼 GPT가 해줌...설명을 아무리 읽어도 무슨 소리인지 잘 이해가 안감...\n"
   ]
  },
  {
   "cell_type": "markdown",
   "metadata": {},
   "source": [
    "---"
   ]
  },
  {
   "cell_type": "markdown",
   "metadata": {},
   "source": [
    "[문제 7]\n",
    "\n",
    "함수 실행 시간을 측정하는 데코레이터 timer_decorator를 작성하세요. \n",
    "\n",
    "임의의 함수가 실행되는 시간을 측정하여 \"함수 실행 시간: x.xx초\" 형태로 출력하세요."
   ]
  },
  {
   "cell_type": "code",
   "execution_count": null,
   "metadata": {},
   "outputs": [],
   "source": [
    "# 진짜 봐도 잘 모르겠어요..."
   ]
  },
  {
   "cell_type": "markdown",
   "metadata": {},
   "source": [
    "---"
   ]
  },
  {
   "cell_type": "markdown",
   "metadata": {},
   "source": [
    "[문제 8]\n",
    "\n",
    "여러분이 자주 사용하는 수학적 연산<br>\n",
    "(예: 삼각형 넓이, 원의 넓이, 직육면체의 넓이)을 수행하는 함수들을 포함하는 mymath.py라는 이름의 모듈을 만드세요. \n",
    "\n",
    "이 모듈을 사용하여 작성된 함수들을 실제로 임포트하고 사용하는 간단한 프로그램을 작성하세요."
   ]
  },
  {
   "cell_type": "code",
   "execution_count": null,
   "metadata": {},
   "outputs": [
    {
     "name": "stdout",
     "output_type": "stream",
     "text": [
      "삼각형 넓이: 25.0\n",
      "원의 넓이: 153.94\n",
      "직육면체의 겉넓이: 52\n"
     ]
    }
   ],
   "source": [
    "import mymath    # 이 3줄도 GPT의 은총을 ㅋㅋ\n",
    "import importlib\n",
    "importlib.reload(mymath)  \n",
    "\n",
    "# 삼각형 넓이 계산\n",
    "tri_area = mymath.triangle_area(10, 5)\n",
    "print(f\"삼각형 넓이: {tri_area}\")\n",
    "\n",
    "# 원의 넓이 계산\n",
    "circle = mymath.circle_area(7)\n",
    "print(f\"원의 넓이: {circle:.2f}\")\n",
    "\n",
    "# 직육면체의 겉넓이 계산\n",
    "cuboid = mymath.cuboid_surface_area(2, 3, 4)\n",
    "print(f\"직육면체의 겉넓이: {cuboid}\")\n"
   ]
  },
  {
   "cell_type": "markdown",
   "metadata": {},
   "source": [
    "---"
   ]
  },
  {
   "cell_type": "markdown",
   "metadata": {},
   "source": [
    "[문제 9]\n",
    "\n",
    "animals라는 패키지를 만들고, 이 패키지 내에 mammals, birds라는 두 개의 서브 모듈을 생성하세요. \n",
    "\n",
    "- 각 모듈에는 최소한 한 개 이상의 동물에 관한 클래스를 정의하세요<br>\n",
    "  (예: mammals에는 Dog, birds에는 Eagle)\n",
    "- 이 패키지와 모듈을 사용하여 동물들의 정보를 출력하는 프로그램을 작성\n",
    "\n",
    "폴더 및 파일 구조\n",
    "```\n",
    "animals/(폴더)\n",
    "├── __init__.py\n",
    "├── mammals.py\n",
    "└── birds.py\n",
    "```\n"
   ]
  },
  {
   "cell_type": "code",
   "execution_count": 1,
   "metadata": {},
   "outputs": [
    {
     "name": "stdout",
     "output_type": "stream",
     "text": [
      "바둑이가 멍멍 짖습니다.\n",
      "수리는 하늘 높이 납니다.\n"
     ]
    }
   ],
   "source": [
    "from animals.mammals import Dog\n",
    "from animals.birds import Eagle\n",
    "\n",
    "강아지 = Dog('바둑이')\n",
    "독수리 = Eagle('수리')\n",
    "\n",
    "print(강아지.speak())\n",
    "print(독수리.fly())"
   ]
  },
  {
   "cell_type": "markdown",
   "metadata": {},
   "source": [
    "---"
   ]
  }
 ],
 "metadata": {
  "kernelspec": {
   "display_name": "Python 3",
   "language": "python",
   "name": "python3"
  },
  "language_info": {
   "codemirror_mode": {
    "name": "ipython",
    "version": 3
   },
   "file_extension": ".py",
   "mimetype": "text/x-python",
   "name": "python",
   "nbconvert_exporter": "python",
   "pygments_lexer": "ipython3",
   "version": "3.9.6"
  }
 },
 "nbformat": 4,
 "nbformat_minor": 2
}
